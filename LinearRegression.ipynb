{
  "nbformat": 4,
  "nbformat_minor": 0,
  "metadata": {
    "colab": {
      "provenance": [],
      "authorship_tag": "ABX9TyMXfbmTLd1CknzffR009WBI",
      "include_colab_link": true
    },
    "kernelspec": {
      "name": "python3",
      "display_name": "Python 3"
    },
    "language_info": {
      "name": "python"
    }
  },
  "cells": [
    {
      "cell_type": "markdown",
      "metadata": {
        "id": "view-in-github",
        "colab_type": "text"
      },
      "source": [
        "<a href=\"https://colab.research.google.com/github/Sam-415/Marketing-research-methods---Samhita_-Jio-Institute/blob/10th-Feb--Assignment/LinearRegression.ipynb\" target=\"_parent\"><img src=\"https://colab.research.google.com/assets/colab-badge.svg\" alt=\"Open In Colab\"/></a>"
      ]
    },
    {
      "cell_type": "code",
      "execution_count": 4,
      "metadata": {
        "colab": {
          "base_uri": "https://localhost:8080/"
        },
        "id": "Po8rDEhrg8zf",
        "outputId": "7cd0f008-da86-4261-8075-1cf87ec4a0c6"
      },
      "outputs": [
        {
          "output_type": "stream",
          "name": "stdout",
          "text": [
            "Columns in dataset: Index(['ROWID', 'ORDERID', 'ORDERDATE', 'ORDERPRIOTORITY', 'ORDERQUANTITY',\n",
            "       'SALES', 'DISCOUNT', 'SHIPMODE', 'PROFIT', 'UNITPRICE', 'SHIPPINGCOSTS',\n",
            "       'CUSTOMERNAME', 'PROVINCE', 'REGION', 'CUSTOMERSEGMENT',\n",
            "       'PRODUCTCATEGORY', 'PRODUCTSUBCATEGORY', 'PRODUCTNAME',\n",
            "       'PRODUCTCONTAINER', 'PRODUCTBASEMARGIN', 'SHIPDATE', 'DATASET'],\n",
            "      dtype='object')\n",
            "                            OLS Regression Results                            \n",
            "==============================================================================\n",
            "Dep. Variable:                  SALES   R-squared:                       0.049\n",
            "Model:                            OLS   Adj. R-squared:                  0.049\n",
            "Method:                 Least Squares   F-statistic:                     216.1\n",
            "Date:                Mon, 10 Feb 2025   Prob (F-statistic):           2.95e-92\n",
            "Time:                        06:23:15   Log-Likelihood:                -80448.\n",
            "No. Observations:                8399   AIC:                         1.609e+05\n",
            "Df Residuals:                    8396   BIC:                         1.609e+05\n",
            "Df Model:                           2                                         \n",
            "Covariance Type:            nonrobust                                         \n",
            "=================================================================================\n",
            "                    coef    std err          t      P>|t|      [0.025      0.975]\n",
            "---------------------------------------------------------------------------------\n",
            "const           478.7627     98.084      4.881      0.000     286.494     671.032\n",
            "DISCOUNT      -1978.1911   1199.047     -1.650      0.099   -4328.619     372.237\n",
            "ORDERQUANTITY    54.5671      2.635     20.709      0.000      49.402      59.732\n",
            "==============================================================================\n",
            "Omnibus:                     9420.024   Durbin-Watson:                   1.982\n",
            "Prob(Omnibus):                  0.000   Jarque-Bera (JB):          1642551.311\n",
            "Skew:                           5.541   Prob(JB):                         0.00\n",
            "Kurtosis:                      70.607   Cond. No.                         925.\n",
            "==============================================================================\n",
            "\n",
            "Notes:\n",
            "[1] Standard Errors assume that the covariance matrix of the errors is correctly specified.\n"
          ]
        }
      ],
      "source": [
        "import pandas as pd\n",
        "import statsmodels.api as sm\n",
        "\n",
        "# Load the dataset\n",
        "df = pd.read_csv(\"/content/ORDERS.csv\", encoding=\"ISO-8859-1\")\n",
        "\n",
        "# Print column names to check for mismatches\n",
        "print(\"Columns in dataset:\", df.columns)\n",
        "\n",
        "# Standardize column names by stripping spaces\n",
        "df.columns = df.columns.str.strip()\n",
        "\n",
        "# Define expected column names\n",
        "expected_cols = ['SALES', 'DISCOUNT', 'ORDERQUANTITY']\n",
        "\n",
        "# Check for missing columns\n",
        "missing_cols = [col for col in expected_cols if col not in df.columns]\n",
        "if missing_cols:\n",
        "    print(f\"Missing columns in dataset: {missing_cols}\")\n",
        "else:\n",
        "    # Selecting relevant numerical features\n",
        "    df = df[expected_cols].dropna()\n",
        "\n",
        "    # Define independent (X) and dependent (y) variables\n",
        "    X = df[['DISCOUNT', 'ORDERQUANTITY']]\n",
        "    y = df['SALES']\n",
        "\n",
        "    # Add constant for intercept\n",
        "    X = sm.add_constant(X)\n",
        "\n",
        "    # Run linear regression\n",
        "    model = sm.OLS(y, X).fit()\n",
        "    print(model.summary())"
      ]
    }
  ]
}